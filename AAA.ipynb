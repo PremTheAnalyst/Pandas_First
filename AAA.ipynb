{
 "cells": [
  {
   "cell_type": "markdown",
   "id": "94689129",
   "metadata": {},
   "source": [
    "# EDA with Pandas"
   ]
  },
  {
   "cell_type": "code",
   "execution_count": 1,
   "id": "131be49a",
   "metadata": {},
   "outputs": [],
   "source": [
    "import pandas as pd\n",
    "import numpy as np\n",
    "import matplotlib.pyplot as plt\n",
    "import seaborn as sns\n",
    "plt.style.use('ggplot')"
   ]
  },
  {
   "cell_type": "code",
   "execution_count": 3,
   "id": "b39d5353",
   "metadata": {},
   "outputs": [
    {
     "data": {
      "text/html": [
       "<div>\n",
       "<style scoped>\n",
       "    .dataframe tbody tr th:only-of-type {\n",
       "        vertical-align: middle;\n",
       "    }\n",
       "\n",
       "    .dataframe tbody tr th {\n",
       "        vertical-align: top;\n",
       "    }\n",
       "\n",
       "    .dataframe thead th {\n",
       "        text-align: right;\n",
       "    }\n",
       "</style>\n",
       "<table border=\"1\" class=\"dataframe\">\n",
       "  <thead>\n",
       "    <tr style=\"text-align: right;\">\n",
       "      <th></th>\n",
       "      <th>Ministry</th>\n",
       "      <th>Ministry/Demand</th>\n",
       "      <th>Budget Estimates2023-2024-Revenue</th>\n",
       "      <th>Budget Estimates2023-2024-Capital</th>\n",
       "      <th>Budget Estimates2023-2024-Total</th>\n",
       "    </tr>\n",
       "  </thead>\n",
       "  <tbody>\n",
       "    <tr>\n",
       "      <th>0</th>\n",
       "      <td>Ministry of Agriculture and Farmers Welfare</td>\n",
       "      <td>Total</td>\n",
       "      <td>124982.96</td>\n",
       "      <td>52.83</td>\n",
       "      <td>125035.79</td>\n",
       "    </tr>\n",
       "    <tr>\n",
       "      <th>1</th>\n",
       "      <td>Ministry of Agriculture and Farmers Welfare</td>\n",
       "      <td>1. Department of Agriculture and Farmers Welfare</td>\n",
       "      <td>115489.37</td>\n",
       "      <td>42.42</td>\n",
       "      <td>115531.79</td>\n",
       "    </tr>\n",
       "    <tr>\n",
       "      <th>2</th>\n",
       "      <td>Ministry of Agriculture and Farmers Welfare</td>\n",
       "      <td>2. Department of Agricultural Research and Edu...</td>\n",
       "      <td>9493.59</td>\n",
       "      <td>10.41</td>\n",
       "      <td>9504.00</td>\n",
       "    </tr>\n",
       "    <tr>\n",
       "      <th>3</th>\n",
       "      <td>Department of Atomic Energy</td>\n",
       "      <td>Total</td>\n",
       "      <td>9096.99</td>\n",
       "      <td>15981.50</td>\n",
       "      <td>25078.49</td>\n",
       "    </tr>\n",
       "    <tr>\n",
       "      <th>4</th>\n",
       "      <td>Department of Atomic Energy</td>\n",
       "      <td>3. Atomic Energy</td>\n",
       "      <td>9096.99</td>\n",
       "      <td>15981.50</td>\n",
       "      <td>25078.49</td>\n",
       "    </tr>\n",
       "    <tr>\n",
       "      <th>5</th>\n",
       "      <td>Ministry of  AYUSH</td>\n",
       "      <td>Total</td>\n",
       "      <td>3641.56</td>\n",
       "      <td>5.94</td>\n",
       "      <td>3647.50</td>\n",
       "    </tr>\n",
       "    <tr>\n",
       "      <th>6</th>\n",
       "      <td>Ministry of  AYUSH</td>\n",
       "      <td>4. Ministry of Ayush</td>\n",
       "      <td>3641.56</td>\n",
       "      <td>5.94</td>\n",
       "      <td>3647.50</td>\n",
       "    </tr>\n",
       "    <tr>\n",
       "      <th>7</th>\n",
       "      <td>Ministry of Chemicals�and Fertilisers</td>\n",
       "      <td>Total</td>\n",
       "      <td>178477.21</td>\n",
       "      <td>4.78</td>\n",
       "      <td>178481.99</td>\n",
       "    </tr>\n",
       "    <tr>\n",
       "      <th>8</th>\n",
       "      <td>Ministry of Chemicals�and Fertilisers</td>\n",
       "      <td>5. Department of Chemicals and Petrochemicals</td>\n",
       "      <td>172.55</td>\n",
       "      <td>0.90</td>\n",
       "      <td>173.45</td>\n",
       "    </tr>\n",
       "    <tr>\n",
       "      <th>9</th>\n",
       "      <td>Ministry of Chemicals�and Fertilisers</td>\n",
       "      <td>6. Department of Fertilisers</td>\n",
       "      <td>175145.79</td>\n",
       "      <td>2.69</td>\n",
       "      <td>175148.48</td>\n",
       "    </tr>\n",
       "  </tbody>\n",
       "</table>\n",
       "</div>"
      ],
      "text/plain": [
       "                                      Ministry  \\\n",
       "0  Ministry of Agriculture and Farmers Welfare   \n",
       "1  Ministry of Agriculture and Farmers Welfare   \n",
       "2  Ministry of Agriculture and Farmers Welfare   \n",
       "3                  Department of Atomic Energy   \n",
       "4                  Department of Atomic Energy   \n",
       "5                           Ministry of  AYUSH   \n",
       "6                           Ministry of  AYUSH   \n",
       "7        Ministry of Chemicals�and Fertilisers   \n",
       "8        Ministry of Chemicals�and Fertilisers   \n",
       "9        Ministry of Chemicals�and Fertilisers   \n",
       "\n",
       "                                     Ministry/Demand  \\\n",
       "0                                              Total   \n",
       "1   1. Department of Agriculture and Farmers Welfare   \n",
       "2  2. Department of Agricultural Research and Edu...   \n",
       "3                                              Total   \n",
       "4                                   3. Atomic Energy   \n",
       "5                                              Total   \n",
       "6                               4. Ministry of Ayush   \n",
       "7                                              Total   \n",
       "8      5. Department of Chemicals and Petrochemicals   \n",
       "9                       6. Department of Fertilisers   \n",
       "\n",
       "   Budget Estimates2023-2024-Revenue  Budget Estimates2023-2024-Capital  \\\n",
       "0                          124982.96                              52.83   \n",
       "1                          115489.37                              42.42   \n",
       "2                            9493.59                              10.41   \n",
       "3                            9096.99                           15981.50   \n",
       "4                            9096.99                           15981.50   \n",
       "5                            3641.56                               5.94   \n",
       "6                            3641.56                               5.94   \n",
       "7                          178477.21                               4.78   \n",
       "8                             172.55                               0.90   \n",
       "9                          175145.79                               2.69   \n",
       "\n",
       "   Budget Estimates2023-2024-Total  \n",
       "0                        125035.79  \n",
       "1                        115531.79  \n",
       "2                          9504.00  \n",
       "3                         25078.49  \n",
       "4                         25078.49  \n",
       "5                          3647.50  \n",
       "6                          3647.50  \n",
       "7                        178481.99  \n",
       "8                           173.45  \n",
       "9                        175148.48  "
      ]
     },
     "execution_count": 3,
     "metadata": {},
     "output_type": "execute_result"
    }
   ],
   "source": [
    "df=pd.read_excel(\"/Users/premswaroop/Downloads/Untitled spreadsheet.xlsx\")\n",
    "df.head(10)"
   ]
  },
  {
   "cell_type": "code",
   "execution_count": 5,
   "id": "da5979a9",
   "metadata": {},
   "outputs": [
    {
     "data": {
      "text/plain": [
       "(159, 5)"
      ]
     },
     "execution_count": 5,
     "metadata": {},
     "output_type": "execute_result"
    }
   ],
   "source": [
    "df.shape"
   ]
  },
  {
   "cell_type": "code",
   "execution_count": 6,
   "id": "bf638563",
   "metadata": {},
   "outputs": [
    {
     "data": {
      "text/plain": [
       "Ministry                              object\n",
       "Ministry/Demand                       object\n",
       "Budget Estimates2023-2024-Revenue    float64\n",
       "Budget Estimates2023-2024-Capital    float64\n",
       "Budget Estimates2023-2024-Total      float64\n",
       "dtype: object"
      ]
     },
     "execution_count": 6,
     "metadata": {},
     "output_type": "execute_result"
    }
   ],
   "source": [
    "df.dtypes"
   ]
  },
  {
   "cell_type": "code",
   "execution_count": 7,
   "id": "f3d0bd9d",
   "metadata": {},
   "outputs": [
    {
     "data": {
      "text/plain": [
       "Index(['Ministry', 'Ministry/Demand', 'Budget Estimates2023-2024-Revenue',\n",
       "       'Budget Estimates2023-2024-Capital', 'Budget Estimates2023-2024-Total'],\n",
       "      dtype='object')"
      ]
     },
     "execution_count": 7,
     "metadata": {},
     "output_type": "execute_result"
    }
   ],
   "source": [
    "df.columns"
   ]
  },
  {
   "cell_type": "code",
   "execution_count": 8,
   "id": "310c2816",
   "metadata": {},
   "outputs": [
    {
     "data": {
      "text/html": [
       "<div>\n",
       "<style scoped>\n",
       "    .dataframe tbody tr th:only-of-type {\n",
       "        vertical-align: middle;\n",
       "    }\n",
       "\n",
       "    .dataframe tbody tr th {\n",
       "        vertical-align: top;\n",
       "    }\n",
       "\n",
       "    .dataframe thead th {\n",
       "        text-align: right;\n",
       "    }\n",
       "</style>\n",
       "<table border=\"1\" class=\"dataframe\">\n",
       "  <thead>\n",
       "    <tr style=\"text-align: right;\">\n",
       "      <th></th>\n",
       "      <th>Ministry</th>\n",
       "      <th>Ministry/Demand</th>\n",
       "      <th>Budget Estimates2023-2024-Revenue</th>\n",
       "      <th>Budget Estimates2023-2024-Capital</th>\n",
       "      <th>Budget Estimates2023-2024-Total</th>\n",
       "    </tr>\n",
       "  </thead>\n",
       "  <tbody>\n",
       "    <tr>\n",
       "      <th>0</th>\n",
       "      <td>False</td>\n",
       "      <td>False</td>\n",
       "      <td>False</td>\n",
       "      <td>False</td>\n",
       "      <td>False</td>\n",
       "    </tr>\n",
       "    <tr>\n",
       "      <th>1</th>\n",
       "      <td>False</td>\n",
       "      <td>False</td>\n",
       "      <td>False</td>\n",
       "      <td>False</td>\n",
       "      <td>False</td>\n",
       "    </tr>\n",
       "    <tr>\n",
       "      <th>2</th>\n",
       "      <td>False</td>\n",
       "      <td>False</td>\n",
       "      <td>False</td>\n",
       "      <td>False</td>\n",
       "      <td>False</td>\n",
       "    </tr>\n",
       "    <tr>\n",
       "      <th>3</th>\n",
       "      <td>False</td>\n",
       "      <td>False</td>\n",
       "      <td>False</td>\n",
       "      <td>False</td>\n",
       "      <td>False</td>\n",
       "    </tr>\n",
       "    <tr>\n",
       "      <th>4</th>\n",
       "      <td>False</td>\n",
       "      <td>False</td>\n",
       "      <td>False</td>\n",
       "      <td>False</td>\n",
       "      <td>False</td>\n",
       "    </tr>\n",
       "    <tr>\n",
       "      <th>...</th>\n",
       "      <td>...</td>\n",
       "      <td>...</td>\n",
       "      <td>...</td>\n",
       "      <td>...</td>\n",
       "      <td>...</td>\n",
       "    </tr>\n",
       "    <tr>\n",
       "      <th>154</th>\n",
       "      <td>False</td>\n",
       "      <td>False</td>\n",
       "      <td>False</td>\n",
       "      <td>False</td>\n",
       "      <td>False</td>\n",
       "    </tr>\n",
       "    <tr>\n",
       "      <th>155</th>\n",
       "      <td>False</td>\n",
       "      <td>False</td>\n",
       "      <td>False</td>\n",
       "      <td>False</td>\n",
       "      <td>False</td>\n",
       "    </tr>\n",
       "    <tr>\n",
       "      <th>156</th>\n",
       "      <td>False</td>\n",
       "      <td>False</td>\n",
       "      <td>False</td>\n",
       "      <td>False</td>\n",
       "      <td>False</td>\n",
       "    </tr>\n",
       "    <tr>\n",
       "      <th>157</th>\n",
       "      <td>False</td>\n",
       "      <td>False</td>\n",
       "      <td>False</td>\n",
       "      <td>False</td>\n",
       "      <td>False</td>\n",
       "    </tr>\n",
       "    <tr>\n",
       "      <th>158</th>\n",
       "      <td>False</td>\n",
       "      <td>False</td>\n",
       "      <td>False</td>\n",
       "      <td>False</td>\n",
       "      <td>False</td>\n",
       "    </tr>\n",
       "  </tbody>\n",
       "</table>\n",
       "<p>159 rows × 5 columns</p>\n",
       "</div>"
      ],
      "text/plain": [
       "     Ministry  Ministry/Demand  Budget Estimates2023-2024-Revenue  \\\n",
       "0       False            False                              False   \n",
       "1       False            False                              False   \n",
       "2       False            False                              False   \n",
       "3       False            False                              False   \n",
       "4       False            False                              False   \n",
       "..        ...              ...                                ...   \n",
       "154     False            False                              False   \n",
       "155     False            False                              False   \n",
       "156     False            False                              False   \n",
       "157     False            False                              False   \n",
       "158     False            False                              False   \n",
       "\n",
       "     Budget Estimates2023-2024-Capital  Budget Estimates2023-2024-Total  \n",
       "0                                False                            False  \n",
       "1                                False                            False  \n",
       "2                                False                            False  \n",
       "3                                False                            False  \n",
       "4                                False                            False  \n",
       "..                                 ...                              ...  \n",
       "154                              False                            False  \n",
       "155                              False                            False  \n",
       "156                              False                            False  \n",
       "157                              False                            False  \n",
       "158                              False                            False  \n",
       "\n",
       "[159 rows x 5 columns]"
      ]
     },
     "execution_count": 8,
     "metadata": {},
     "output_type": "execute_result"
    }
   ],
   "source": [
    "df.isna()"
   ]
  },
  {
   "cell_type": "code",
   "execution_count": 10,
   "id": "52aa9235",
   "metadata": {},
   "outputs": [
    {
     "data": {
      "text/plain": [
       "Ministry                             0\n",
       "Ministry/Demand                      0\n",
       "Budget Estimates2023-2024-Revenue    0\n",
       "Budget Estimates2023-2024-Capital    0\n",
       "Budget Estimates2023-2024-Total      0\n",
       "dtype: int64"
      ]
     },
     "execution_count": 10,
     "metadata": {},
     "output_type": "execute_result"
    }
   ],
   "source": [
    "df.isna().sum()"
   ]
  },
  {
   "cell_type": "code",
   "execution_count": 11,
   "id": "7c85327a",
   "metadata": {},
   "outputs": [
    {
     "data": {
      "text/plain": [
       "0"
      ]
     },
     "execution_count": 11,
     "metadata": {},
     "output_type": "execute_result"
    }
   ],
   "source": [
    "df.duplicated().sum()"
   ]
  },
  {
   "cell_type": "code",
   "execution_count": 12,
   "id": "a30c5d50",
   "metadata": {},
   "outputs": [
    {
     "data": {
      "text/html": [
       "<div>\n",
       "<style scoped>\n",
       "    .dataframe tbody tr th:only-of-type {\n",
       "        vertical-align: middle;\n",
       "    }\n",
       "\n",
       "    .dataframe tbody tr th {\n",
       "        vertical-align: top;\n",
       "    }\n",
       "\n",
       "    .dataframe thead th {\n",
       "        text-align: right;\n",
       "    }\n",
       "</style>\n",
       "<table border=\"1\" class=\"dataframe\">\n",
       "  <thead>\n",
       "    <tr style=\"text-align: right;\">\n",
       "      <th></th>\n",
       "      <th>Ministry</th>\n",
       "      <th>Ministry/Demand</th>\n",
       "      <th>Budget Estimates2023-2024-Revenue</th>\n",
       "      <th>Budget Estimates2023-2024-Capital</th>\n",
       "      <th>Budget Estimates2023-2024-Total</th>\n",
       "    </tr>\n",
       "  </thead>\n",
       "  <tbody>\n",
       "    <tr>\n",
       "      <th>0</th>\n",
       "      <td>Ministry of Agriculture and Farmers Welfare</td>\n",
       "      <td>Total</td>\n",
       "      <td>124982.96</td>\n",
       "      <td>52.83</td>\n",
       "      <td>125035.79</td>\n",
       "    </tr>\n",
       "    <tr>\n",
       "      <th>1</th>\n",
       "      <td>Ministry of Agriculture and Farmers Welfare</td>\n",
       "      <td>1. Department of Agriculture and Farmers Welfare</td>\n",
       "      <td>115489.37</td>\n",
       "      <td>42.42</td>\n",
       "      <td>115531.79</td>\n",
       "    </tr>\n",
       "    <tr>\n",
       "      <th>2</th>\n",
       "      <td>Ministry of Agriculture and Farmers Welfare</td>\n",
       "      <td>2. Department of Agricultural Research and Edu...</td>\n",
       "      <td>9493.59</td>\n",
       "      <td>10.41</td>\n",
       "      <td>9504.00</td>\n",
       "    </tr>\n",
       "    <tr>\n",
       "      <th>3</th>\n",
       "      <td>Department of Atomic Energy</td>\n",
       "      <td>Total</td>\n",
       "      <td>9096.99</td>\n",
       "      <td>15981.50</td>\n",
       "      <td>25078.49</td>\n",
       "    </tr>\n",
       "    <tr>\n",
       "      <th>4</th>\n",
       "      <td>Department of Atomic Energy</td>\n",
       "      <td>3. Atomic Energy</td>\n",
       "      <td>9096.99</td>\n",
       "      <td>15981.50</td>\n",
       "      <td>25078.49</td>\n",
       "    </tr>\n",
       "  </tbody>\n",
       "</table>\n",
       "</div>"
      ],
      "text/plain": [
       "                                      Ministry  \\\n",
       "0  Ministry of Agriculture and Farmers Welfare   \n",
       "1  Ministry of Agriculture and Farmers Welfare   \n",
       "2  Ministry of Agriculture and Farmers Welfare   \n",
       "3                  Department of Atomic Energy   \n",
       "4                  Department of Atomic Energy   \n",
       "\n",
       "                                     Ministry/Demand  \\\n",
       "0                                              Total   \n",
       "1   1. Department of Agriculture and Farmers Welfare   \n",
       "2  2. Department of Agricultural Research and Edu...   \n",
       "3                                              Total   \n",
       "4                                   3. Atomic Energy   \n",
       "\n",
       "   Budget Estimates2023-2024-Revenue  Budget Estimates2023-2024-Capital  \\\n",
       "0                          124982.96                              52.83   \n",
       "1                          115489.37                              42.42   \n",
       "2                            9493.59                              10.41   \n",
       "3                            9096.99                           15981.50   \n",
       "4                            9096.99                           15981.50   \n",
       "\n",
       "   Budget Estimates2023-2024-Total  \n",
       "0                        125035.79  \n",
       "1                        115531.79  \n",
       "2                          9504.00  \n",
       "3                         25078.49  \n",
       "4                         25078.49  "
      ]
     },
     "execution_count": 12,
     "metadata": {},
     "output_type": "execute_result"
    }
   ],
   "source": [
    "df.head()"
   ]
  },
  {
   "cell_type": "code",
   "execution_count": 17,
   "id": "2f227ef3",
   "metadata": {},
   "outputs": [
    {
     "data": {
      "text/html": [
       "<div>\n",
       "<style scoped>\n",
       "    .dataframe tbody tr th:only-of-type {\n",
       "        vertical-align: middle;\n",
       "    }\n",
       "\n",
       "    .dataframe tbody tr th {\n",
       "        vertical-align: top;\n",
       "    }\n",
       "\n",
       "    .dataframe thead th {\n",
       "        text-align: right;\n",
       "    }\n",
       "</style>\n",
       "<table border=\"1\" class=\"dataframe\">\n",
       "  <thead>\n",
       "    <tr style=\"text-align: right;\">\n",
       "      <th></th>\n",
       "      <th>Ministry</th>\n",
       "      <th>Ministry/Demand</th>\n",
       "      <th>Budget Estimates2023-2024-Revenue</th>\n",
       "      <th>Budget Estimates2023-2024-Capital</th>\n",
       "      <th>Budget Estimates2023-2024-Total</th>\n",
       "    </tr>\n",
       "  </thead>\n",
       "  <tbody>\n",
       "    <tr>\n",
       "      <th>158</th>\n",
       "      <td>Grand Total</td>\n",
       "      <td>Grand Total</td>\n",
       "      <td>3502136.44</td>\n",
       "      <td>1000961.01</td>\n",
       "      <td>4503097.45</td>\n",
       "    </tr>\n",
       "    <tr>\n",
       "      <th>48</th>\n",
       "      <td>Ministry of Finance</td>\n",
       "      <td>Total</td>\n",
       "      <td>1543366.57</td>\n",
       "      <td>146352.60</td>\n",
       "      <td>1689719.17</td>\n",
       "    </tr>\n",
       "    <tr>\n",
       "      <th>58</th>\n",
       "      <td>Ministry of Finance</td>\n",
       "      <td>39. Interest Payments</td>\n",
       "      <td>1079971.00</td>\n",
       "      <td>0.00</td>\n",
       "      <td>1079971.00</td>\n",
       "    </tr>\n",
       "    <tr>\n",
       "      <th>30</th>\n",
       "      <td>Ministry of Defence</td>\n",
       "      <td>Total</td>\n",
       "      <td>422162.85</td>\n",
       "      <td>171374.79</td>\n",
       "      <td>593537.64</td>\n",
       "    </tr>\n",
       "    <tr>\n",
       "      <th>61</th>\n",
       "      <td>Ministry of Finance</td>\n",
       "      <td>42. Transfers to States</td>\n",
       "      <td>187260.01</td>\n",
       "      <td>137381.40</td>\n",
       "      <td>324641.41</td>\n",
       "    </tr>\n",
       "  </tbody>\n",
       "</table>\n",
       "</div>"
      ],
      "text/plain": [
       "                Ministry          Ministry/Demand  \\\n",
       "158          Grand Total              Grand Total   \n",
       "48   Ministry of Finance                    Total   \n",
       "58   Ministry of Finance    39. Interest Payments   \n",
       "30   Ministry of Defence                    Total   \n",
       "61   Ministry of Finance  42. Transfers to States   \n",
       "\n",
       "     Budget Estimates2023-2024-Revenue  Budget Estimates2023-2024-Capital  \\\n",
       "158                         3502136.44                         1000961.01   \n",
       "48                          1543366.57                          146352.60   \n",
       "58                          1079971.00                               0.00   \n",
       "30                           422162.85                          171374.79   \n",
       "61                           187260.01                          137381.40   \n",
       "\n",
       "     Budget Estimates2023-2024-Total  \n",
       "158                       4503097.45  \n",
       "48                        1689719.17  \n",
       "58                        1079971.00  \n",
       "30                         593537.64  \n",
       "61                         324641.41  "
      ]
     },
     "execution_count": 17,
     "metadata": {},
     "output_type": "execute_result"
    }
   ],
   "source": [
    "df2=df.sort_values(by=['Budget Estimates2023-2024-Total'],ascending=False)\n",
    "df2.head()"
   ]
  },
  {
   "cell_type": "code",
   "execution_count": 18,
   "id": "8ac51066",
   "metadata": {},
   "outputs": [],
   "source": [
    "df2.drop([158],axis=0,inplace=True)"
   ]
  },
  {
   "cell_type": "code",
   "execution_count": 19,
   "id": "aaabad45",
   "metadata": {},
   "outputs": [
    {
     "data": {
      "text/html": [
       "<div>\n",
       "<style scoped>\n",
       "    .dataframe tbody tr th:only-of-type {\n",
       "        vertical-align: middle;\n",
       "    }\n",
       "\n",
       "    .dataframe tbody tr th {\n",
       "        vertical-align: top;\n",
       "    }\n",
       "\n",
       "    .dataframe thead th {\n",
       "        text-align: right;\n",
       "    }\n",
       "</style>\n",
       "<table border=\"1\" class=\"dataframe\">\n",
       "  <thead>\n",
       "    <tr style=\"text-align: right;\">\n",
       "      <th></th>\n",
       "      <th>Ministry</th>\n",
       "      <th>Ministry/Demand</th>\n",
       "      <th>Budget Estimates2023-2024-Revenue</th>\n",
       "      <th>Budget Estimates2023-2024-Capital</th>\n",
       "      <th>Budget Estimates2023-2024-Total</th>\n",
       "    </tr>\n",
       "  </thead>\n",
       "  <tbody>\n",
       "    <tr>\n",
       "      <th>48</th>\n",
       "      <td>Ministry of Finance</td>\n",
       "      <td>Total</td>\n",
       "      <td>1543366.57</td>\n",
       "      <td>146352.60</td>\n",
       "      <td>1689719.17</td>\n",
       "    </tr>\n",
       "    <tr>\n",
       "      <th>58</th>\n",
       "      <td>Ministry of Finance</td>\n",
       "      <td>39. Interest Payments</td>\n",
       "      <td>1079971.00</td>\n",
       "      <td>0.00</td>\n",
       "      <td>1079971.00</td>\n",
       "    </tr>\n",
       "    <tr>\n",
       "      <th>30</th>\n",
       "      <td>Ministry of Defence</td>\n",
       "      <td>Total</td>\n",
       "      <td>422162.85</td>\n",
       "      <td>171374.79</td>\n",
       "      <td>593537.64</td>\n",
       "    </tr>\n",
       "    <tr>\n",
       "      <th>61</th>\n",
       "      <td>Ministry of Finance</td>\n",
       "      <td>42. Transfers to States</td>\n",
       "      <td>187260.01</td>\n",
       "      <td>137381.40</td>\n",
       "      <td>324641.41</td>\n",
       "    </tr>\n",
       "    <tr>\n",
       "      <th>129</th>\n",
       "      <td>Ministry of Road Transport and Highways</td>\n",
       "      <td>86. Ministry of Road Transport and Highways</td>\n",
       "      <td>11829.18</td>\n",
       "      <td>258605.53</td>\n",
       "      <td>270434.71</td>\n",
       "    </tr>\n",
       "  </tbody>\n",
       "</table>\n",
       "</div>"
      ],
      "text/plain": [
       "                                    Ministry  \\\n",
       "48                       Ministry of Finance   \n",
       "58                       Ministry of Finance   \n",
       "30                       Ministry of Defence   \n",
       "61                       Ministry of Finance   \n",
       "129  Ministry of Road Transport and Highways   \n",
       "\n",
       "                                 Ministry/Demand  \\\n",
       "48                                         Total   \n",
       "58                         39. Interest Payments   \n",
       "30                                         Total   \n",
       "61                       42. Transfers to States   \n",
       "129  86. Ministry of Road Transport and Highways   \n",
       "\n",
       "     Budget Estimates2023-2024-Revenue  Budget Estimates2023-2024-Capital  \\\n",
       "48                          1543366.57                          146352.60   \n",
       "58                          1079971.00                               0.00   \n",
       "30                           422162.85                          171374.79   \n",
       "61                           187260.01                          137381.40   \n",
       "129                           11829.18                          258605.53   \n",
       "\n",
       "     Budget Estimates2023-2024-Total  \n",
       "48                        1689719.17  \n",
       "58                        1079971.00  \n",
       "30                         593537.64  \n",
       "61                         324641.41  \n",
       "129                        270434.71  "
      ]
     },
     "execution_count": 19,
     "metadata": {},
     "output_type": "execute_result"
    }
   ],
   "source": [
    "df2.head()"
   ]
  },
  {
   "cell_type": "code",
   "execution_count": 25,
   "id": "52ff1cc6",
   "metadata": {},
   "outputs": [
    {
     "data": {
      "text/html": [
       "<div>\n",
       "<style scoped>\n",
       "    .dataframe tbody tr th:only-of-type {\n",
       "        vertical-align: middle;\n",
       "    }\n",
       "\n",
       "    .dataframe tbody tr th {\n",
       "        vertical-align: top;\n",
       "    }\n",
       "\n",
       "    .dataframe thead th {\n",
       "        text-align: right;\n",
       "    }\n",
       "</style>\n",
       "<table border=\"1\" class=\"dataframe\">\n",
       "  <thead>\n",
       "    <tr style=\"text-align: right;\">\n",
       "      <th></th>\n",
       "      <th>Budget Estimates2023-2024-Revenue</th>\n",
       "      <th>Budget Estimates2023-2024-Capital</th>\n",
       "      <th>Budget Estimates2023-2024-Total</th>\n",
       "    </tr>\n",
       "    <tr>\n",
       "      <th>Ministry</th>\n",
       "      <th></th>\n",
       "      <th></th>\n",
       "      <th></th>\n",
       "    </tr>\n",
       "  </thead>\n",
       "  <tbody>\n",
       "    <tr>\n",
       "      <th>Deparment of Space</th>\n",
       "      <td>12374.20</td>\n",
       "      <td>12713.62</td>\n",
       "      <td>25087.82</td>\n",
       "    </tr>\n",
       "    <tr>\n",
       "      <th>Department of Atomic Energy</th>\n",
       "      <td>18193.98</td>\n",
       "      <td>31963.00</td>\n",
       "      <td>50156.98</td>\n",
       "    </tr>\n",
       "    <tr>\n",
       "      <th>Ministry of  AYUSH</th>\n",
       "      <td>7283.12</td>\n",
       "      <td>11.88</td>\n",
       "      <td>7295.00</td>\n",
       "    </tr>\n",
       "    <tr>\n",
       "      <th>Ministry of Agriculture and Farmers Welfare</th>\n",
       "      <td>249965.92</td>\n",
       "      <td>105.66</td>\n",
       "      <td>250071.58</td>\n",
       "    </tr>\n",
       "    <tr>\n",
       "      <th>Ministry of Chemicals�and Fertilisers</th>\n",
       "      <td>356954.42</td>\n",
       "      <td>9.56</td>\n",
       "      <td>356963.98</td>\n",
       "    </tr>\n",
       "  </tbody>\n",
       "</table>\n",
       "</div>"
      ],
      "text/plain": [
       "                                             Budget Estimates2023-2024-Revenue  \\\n",
       "Ministry                                                                         \n",
       "Deparment of Space                                                    12374.20   \n",
       "Department of Atomic Energy                                           18193.98   \n",
       "Ministry of  AYUSH                                                     7283.12   \n",
       "Ministry of Agriculture and Farmers Welfare                          249965.92   \n",
       "Ministry of Chemicals�and Fertilisers                                356954.42   \n",
       "\n",
       "                                             Budget Estimates2023-2024-Capital  \\\n",
       "Ministry                                                                         \n",
       "Deparment of Space                                                    12713.62   \n",
       "Department of Atomic Energy                                           31963.00   \n",
       "Ministry of  AYUSH                                                       11.88   \n",
       "Ministry of Agriculture and Farmers Welfare                             105.66   \n",
       "Ministry of Chemicals�and Fertilisers                                     9.56   \n",
       "\n",
       "                                             Budget Estimates2023-2024-Total  \n",
       "Ministry                                                                      \n",
       "Deparment of Space                                                  25087.82  \n",
       "Department of Atomic Energy                                         50156.98  \n",
       "Ministry of  AYUSH                                                   7295.00  \n",
       "Ministry of Agriculture and Farmers Welfare                        250071.58  \n",
       "Ministry of Chemicals�and Fertilisers                              356963.98  "
      ]
     },
     "execution_count": 25,
     "metadata": {},
     "output_type": "execute_result"
    }
   ],
   "source": [
    "df3=df2.groupby('Ministry').sum()\n",
    "df3.head()"
   ]
  },
  {
   "cell_type": "code",
   "execution_count": 30,
   "id": "954e86a4",
   "metadata": {},
   "outputs": [
    {
     "data": {
      "text/html": [
       "<div>\n",
       "<style scoped>\n",
       "    .dataframe tbody tr th:only-of-type {\n",
       "        vertical-align: middle;\n",
       "    }\n",
       "\n",
       "    .dataframe tbody tr th {\n",
       "        vertical-align: top;\n",
       "    }\n",
       "\n",
       "    .dataframe thead th {\n",
       "        text-align: right;\n",
       "    }\n",
       "</style>\n",
       "<table border=\"1\" class=\"dataframe\">\n",
       "  <thead>\n",
       "    <tr style=\"text-align: right;\">\n",
       "      <th></th>\n",
       "      <th>Budget Estimates2023-2024-Revenue</th>\n",
       "      <th>Budget Estimates2023-2024-Capital</th>\n",
       "      <th>Budget Estimates2023-2024-Total</th>\n",
       "    </tr>\n",
       "    <tr>\n",
       "      <th>Ministry</th>\n",
       "      <th></th>\n",
       "      <th></th>\n",
       "      <th></th>\n",
       "    </tr>\n",
       "  </thead>\n",
       "  <tbody>\n",
       "    <tr>\n",
       "      <th>Ministry of Finance</th>\n",
       "      <td>3086733.14</td>\n",
       "      <td>292705.20</td>\n",
       "      <td>3379438.34</td>\n",
       "    </tr>\n",
       "    <tr>\n",
       "      <th>Ministry of Defence</th>\n",
       "      <td>844325.70</td>\n",
       "      <td>342749.58</td>\n",
       "      <td>1187075.28</td>\n",
       "    </tr>\n",
       "    <tr>\n",
       "      <th>Ministry of Road Transport and Highways</th>\n",
       "      <td>23658.36</td>\n",
       "      <td>517211.06</td>\n",
       "      <td>540869.42</td>\n",
       "    </tr>\n",
       "  </tbody>\n",
       "</table>\n",
       "</div>"
      ],
      "text/plain": [
       "                                         Budget Estimates2023-2024-Revenue  \\\n",
       "Ministry                                                                     \n",
       "Ministry of Finance                                             3086733.14   \n",
       "Ministry of Defence                                              844325.70   \n",
       "Ministry of Road Transport and Highways                           23658.36   \n",
       "\n",
       "                                         Budget Estimates2023-2024-Capital  \\\n",
       "Ministry                                                                     \n",
       "Ministry of Finance                                              292705.20   \n",
       "Ministry of Defence                                              342749.58   \n",
       "Ministry of Road Transport and Highways                          517211.06   \n",
       "\n",
       "                                         Budget Estimates2023-2024-Total  \n",
       "Ministry                                                                  \n",
       "Ministry of Finance                                           3379438.34  \n",
       "Ministry of Defence                                           1187075.28  \n",
       "Ministry of Road Transport and Highways                        540869.42  "
      ]
     },
     "execution_count": 30,
     "metadata": {},
     "output_type": "execute_result"
    }
   ],
   "source": [
    "df3=df3.sort_values(by=['Budget Estimates2023-2024-Total'],ascending=False)\n",
    "df3.head(3)"
   ]
  },
  {
   "cell_type": "code",
   "execution_count": 36,
   "id": "948adb7d",
   "metadata": {},
   "outputs": [
    {
     "data": {
      "text/plain": [
       "<AxesSubplot:xlabel='Ministry'>"
      ]
     },
     "execution_count": 36,
     "metadata": {},
     "output_type": "execute_result"
    },
    {
     "data": {
      "image/png": "[encoded data removed]",
      "text/plain": [
       "<Figure size 432x288 with 1 Axes>"
      ]
     },
     "metadata": {},
     "output_type": "display_data"
    }
   ],
   "source": [
    "df3.head(10).plot(kind='bar')"
   ]
  },
  {
   "cell_type": "code",
   "execution_count": 50,
   "id": "874c6fd9",
   "metadata": {},
   "outputs": [
    {
     "data": {
      "text/plain": [
       "Text(0.5, 0, 'Total Budget in million INR')"
      ]
     },
     "execution_count": 50,
     "metadata": {},
     "output_type": "execute_result"
    },
    {
     "data": {
      "image/png": "[encoded data removed]",
      "text/plain": [
       "<Figure size 432x288 with 1 Axes>"
      ]
     },
     "metadata": {},
     "output_type": "display_data"
    }
   ],
   "source": [
    "ax=df3.loc[:,'Budget Estimates2023-2024-Total'].head(10).plot(kind='barh')\n",
    "ax.set_xlabel('Total Budget in million INR')"
   ]
  },
  {
   "cell_type": "code",
   "execution_count": 58,
   "id": "b21ba4d0",
   "metadata": {},
   "outputs": [
    {
     "data": {
      "text/plain": [
       "Text(0, 0.5, '.')"
      ]
     },
     "execution_count": 58,
     "metadata": {},
     "output_type": "execute_result"
    },
    {
     "data": {
      "image/png": "[encoded data removed]",
      "text/plain": [
       "<Figure size 432x288 with 1 Axes>"
      ]
     },
     "metadata": {},
     "output_type": "display_data"
    }
   ],
   "source": [
    "ap=df3.loc[:,'Budget Estimates2023-2024-Total'].head(10).plot(kind='pie')\n",
    "ap.set_ylabel('.')"
   ]
  },
  {
   "cell_type": "code",
   "execution_count": null,
   "id": "9f4240d5",
   "metadata": {},
   "outputs": [],
   "source": []
  }
 ],
 "metadata": {
  "kernelspec": {
   "display_name": "Python 3 (ipykernel)",
   "language": "python",
   "name": "python3"
  },
  "language_info": {
   "codemirror_mode": {
    "name": "ipython",
    "version": 3
   },
   "file_extension": ".py",
   "mimetype": "text/x-python",
   "name": "python",
   "nbconvert_exporter": "python",
   "pygments_lexer": "ipython3",
   "version": "3.9.7"
  }
 },
 "nbformat": 4,
 "nbformat_minor": 5
}
